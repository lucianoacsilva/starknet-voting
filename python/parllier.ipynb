{
 "cells": [
  {
   "cell_type": "markdown",
   "metadata": {},
   "source": [
    "Starknet"
   ]
  },
  {
   "cell_type": "code",
   "execution_count": null,
   "metadata": {},
   "outputs": [],
   "source": [
    "import starknet_py\n",
    "\n",
    "starknet_py."
   ]
  },
  {
   "cell_type": "markdown",
   "metadata": {},
   "source": [
    "Parllier"
   ]
  },
  {
   "cell_type": "code",
   "execution_count": null,
   "metadata": {},
   "outputs": [
    {
     "name": "stdout",
     "output_type": "stream",
     "text": [
      "[161339524523, 328701385739]\n",
      "n:  985793\n"
     ]
    }
   ],
   "source": [
    "from phe import paillier\n",
    "\n",
    "public_key, private_key = paillier.generate_paillier_keypair(n_length=20)\n",
    "\n",
    "# Initial state\n",
    "secret_number_list: list[int] = [0, 0]\n",
    "encrypted_number_list = [public_key.encrypt(x) for x in secret_number_list]\n",
    "\n",
    "print(list(map(lambda enc: enc.ciphertext(), encrypted_number_list)))\n",
    "print(\"n: \", public_key.n)"
   ]
  },
  {
   "cell_type": "code",
   "execution_count": 9,
   "metadata": {},
   "outputs": [
    {
     "name": "stdout",
     "output_type": "stream",
     "text": [
      "[905479264309, 507568502924]\n"
     ]
    }
   ],
   "source": [
    "vote: list[int] = [1, 0]\n",
    "encrypted_number_list = [public_key.encrypt(x) for x in vote]\n",
    "\n",
    "print(list(map(lambda enc: enc.ciphertext(), encrypted_number_list)))\n"
   ]
  },
  {
   "cell_type": "code",
   "execution_count": 10,
   "metadata": {},
   "outputs": [
    {
     "data": {
      "text/plain": [
       "[1, 1]"
      ]
     },
     "execution_count": 10,
     "metadata": {},
     "output_type": "execute_result"
    }
   ],
   "source": [
    "current_result_hex: list[str] = [res for res in [\n",
    "      \"0xd023788acd\",\n",
    "      \"0x0\",\n",
    "      \"0x3f842e7923\",\n",
    "      \"0x0\"\n",
    "    ] if res != \"0x0\"]\n",
    "\n",
    "current_result: list[int] = [private_key.decrypt(paillier.EncryptedNumber(public_key, int(ciphered_hex, 16))) for ciphered_hex in current_result_hex]\n",
    "\n",
    "current_result"
   ]
  }
 ],
 "metadata": {
  "kernelspec": {
   "display_name": "Python 3",
   "language": "python",
   "name": "python3"
  },
  "language_info": {
   "codemirror_mode": {
    "name": "ipython",
    "version": 3
   },
   "file_extension": ".py",
   "mimetype": "text/x-python",
   "name": "python",
   "nbconvert_exporter": "python",
   "pygments_lexer": "ipython3",
   "version": "3.11.6"
  }
 },
 "nbformat": 4,
 "nbformat_minor": 2
}
