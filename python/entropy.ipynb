{
 "cells": [
  {
   "cell_type": "markdown",
   "metadata": {},
   "source": [
    "Read file."
   ]
  },
  {
   "cell_type": "code",
   "execution_count": 18,
   "metadata": {},
   "outputs": [
    {
     "data": {
      "text/plain": [
       "[{'yes': 1,\n",
       "  'no': 0,\n",
       "  'yes_ciphered': 147724079276,\n",
       "  'no_ciphered_vote': 149561413297},\n",
       " {'yes': 1,\n",
       "  'no': 0,\n",
       "  'yes_ciphered': 289668782417,\n",
       "  'no_ciphered_vote': 3054750385},\n",
       " {'yes': 0,\n",
       "  'no': 0,\n",
       "  'yes_ciphered': 141263208716,\n",
       "  'no_ciphered_vote': 60432358086},\n",
       " {'yes': 1,\n",
       "  'no': 0,\n",
       "  'yes_ciphered': 256022332216,\n",
       "  'no_ciphered_vote': 254216235998},\n",
       " {'yes': 1,\n",
       "  'no': 1,\n",
       "  'yes_ciphered': 115624669193,\n",
       "  'no_ciphered_vote': 230148504767},\n",
       " {'yes': 1,\n",
       "  'no': 1,\n",
       "  'yes_ciphered': 107112928927,\n",
       "  'no_ciphered_vote': 300249902360},\n",
       " {'yes': 1,\n",
       "  'no': 0,\n",
       "  'yes_ciphered': 182620840005,\n",
       "  'no_ciphered_vote': 237500811968},\n",
       " {'yes': 0,\n",
       "  'no': 1,\n",
       "  'yes_ciphered': 209083699891,\n",
       "  'no_ciphered_vote': 214658139233},\n",
       " {'yes': 1,\n",
       "  'no': 0,\n",
       "  'yes_ciphered': 114897776590,\n",
       "  'no_ciphered_vote': 297743563602},\n",
       " {'yes': 1,\n",
       "  'no': 1,\n",
       "  'yes_ciphered': 59815453813,\n",
       "  'no_ciphered_vote': 487979078}]"
      ]
     },
     "execution_count": 18,
     "metadata": {},
     "output_type": "execute_result"
    }
   ],
   "source": [
    "import json\n",
    "\n",
    "with open(\"../10txs/results.json\") as accounts_file:\n",
    "    results = json.load(accounts_file)\n",
    "    \n",
    "votes: list[dict] = list(map(lambda res: res[\"votes_table\"], results[\"results\"]))\n",
    "votes"
   ]
  },
  {
   "cell_type": "markdown",
   "metadata": {},
   "source": [
    "Creates votes dataframe."
   ]
  },
  {
   "cell_type": "code",
   "execution_count": 19,
   "metadata": {},
   "outputs": [
    {
     "data": {
      "text/html": [
       "<div>\n",
       "<style scoped>\n",
       "    .dataframe tbody tr th:only-of-type {\n",
       "        vertical-align: middle;\n",
       "    }\n",
       "\n",
       "    .dataframe tbody tr th {\n",
       "        vertical-align: top;\n",
       "    }\n",
       "\n",
       "    .dataframe thead th {\n",
       "        text-align: right;\n",
       "    }\n",
       "</style>\n",
       "<table border=\"1\" class=\"dataframe\">\n",
       "  <thead>\n",
       "    <tr style=\"text-align: right;\">\n",
       "      <th></th>\n",
       "      <th>yes</th>\n",
       "      <th>no</th>\n",
       "      <th>yes_ciphered</th>\n",
       "      <th>no_ciphered_vote</th>\n",
       "    </tr>\n",
       "  </thead>\n",
       "  <tbody>\n",
       "    <tr>\n",
       "      <th>0</th>\n",
       "      <td>1</td>\n",
       "      <td>0</td>\n",
       "      <td>147724079276</td>\n",
       "      <td>149561413297</td>\n",
       "    </tr>\n",
       "    <tr>\n",
       "      <th>1</th>\n",
       "      <td>1</td>\n",
       "      <td>0</td>\n",
       "      <td>289668782417</td>\n",
       "      <td>3054750385</td>\n",
       "    </tr>\n",
       "    <tr>\n",
       "      <th>2</th>\n",
       "      <td>0</td>\n",
       "      <td>0</td>\n",
       "      <td>141263208716</td>\n",
       "      <td>60432358086</td>\n",
       "    </tr>\n",
       "    <tr>\n",
       "      <th>3</th>\n",
       "      <td>1</td>\n",
       "      <td>0</td>\n",
       "      <td>256022332216</td>\n",
       "      <td>254216235998</td>\n",
       "    </tr>\n",
       "    <tr>\n",
       "      <th>4</th>\n",
       "      <td>1</td>\n",
       "      <td>1</td>\n",
       "      <td>115624669193</td>\n",
       "      <td>230148504767</td>\n",
       "    </tr>\n",
       "    <tr>\n",
       "      <th>5</th>\n",
       "      <td>1</td>\n",
       "      <td>1</td>\n",
       "      <td>107112928927</td>\n",
       "      <td>300249902360</td>\n",
       "    </tr>\n",
       "    <tr>\n",
       "      <th>6</th>\n",
       "      <td>1</td>\n",
       "      <td>0</td>\n",
       "      <td>182620840005</td>\n",
       "      <td>237500811968</td>\n",
       "    </tr>\n",
       "    <tr>\n",
       "      <th>7</th>\n",
       "      <td>0</td>\n",
       "      <td>1</td>\n",
       "      <td>209083699891</td>\n",
       "      <td>214658139233</td>\n",
       "    </tr>\n",
       "    <tr>\n",
       "      <th>8</th>\n",
       "      <td>1</td>\n",
       "      <td>0</td>\n",
       "      <td>114897776590</td>\n",
       "      <td>297743563602</td>\n",
       "    </tr>\n",
       "    <tr>\n",
       "      <th>9</th>\n",
       "      <td>1</td>\n",
       "      <td>1</td>\n",
       "      <td>59815453813</td>\n",
       "      <td>487979078</td>\n",
       "    </tr>\n",
       "  </tbody>\n",
       "</table>\n",
       "</div>"
      ],
      "text/plain": [
       "   yes  no  yes_ciphered  no_ciphered_vote\n",
       "0    1   0  147724079276      149561413297\n",
       "1    1   0  289668782417        3054750385\n",
       "2    0   0  141263208716       60432358086\n",
       "3    1   0  256022332216      254216235998\n",
       "4    1   1  115624669193      230148504767\n",
       "5    1   1  107112928927      300249902360\n",
       "6    1   0  182620840005      237500811968\n",
       "7    0   1  209083699891      214658139233\n",
       "8    1   0  114897776590      297743563602\n",
       "9    1   1   59815453813         487979078"
      ]
     },
     "execution_count": 19,
     "metadata": {},
     "output_type": "execute_result"
    }
   ],
   "source": [
    "import pandas as pd\n",
    "\n",
    "votes_df: pd.DataFrame = pd.DataFrame(votes)\n",
    "votes_df"
   ]
  },
  {
   "cell_type": "markdown",
   "metadata": {},
   "source": [
    "Calculates entropy"
   ]
  },
  {
   "cell_type": "code",
   "execution_count": 20,
   "metadata": {},
   "outputs": [
    {
     "data": {
      "text/plain": [
       "0.5100878980490529"
      ]
     },
     "execution_count": 20,
     "metadata": {},
     "output_type": "execute_result"
    }
   ],
   "source": [
    "from scipy.stats import entropy\n",
    "\n",
    "yes_entropy: float = entropy(pk=votes_df[\"yes\"], qk=votes_df[\"yes_ciphered\"], base=2)\n",
    "yes_entropy"
   ]
  },
  {
   "cell_type": "code",
   "execution_count": 21,
   "metadata": {},
   "outputs": [
    {
     "data": {
      "text/plain": [
       "3.074726382699342"
      ]
     },
     "execution_count": 21,
     "metadata": {},
     "output_type": "execute_result"
    }
   ],
   "source": [
    "from scipy.stats import entropy\n",
    "\n",
    "no_entropy: float = entropy(pk=votes_df[\"no\"], qk=votes_df[\"no_ciphered_vote\"], base=2)\n",
    "no_entropy"
   ]
  }
 ],
 "metadata": {
  "kernelspec": {
   "display_name": "Python 3",
   "language": "python",
   "name": "python3"
  },
  "language_info": {
   "codemirror_mode": {
    "name": "ipython",
    "version": 3
   },
   "file_extension": ".py",
   "mimetype": "text/x-python",
   "name": "python",
   "nbconvert_exporter": "python",
   "pygments_lexer": "ipython3",
   "version": "3.11.6"
  }
 },
 "nbformat": 4,
 "nbformat_minor": 2
}
