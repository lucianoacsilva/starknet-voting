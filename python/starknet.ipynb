{
 "cells": [
  {
   "cell_type": "code",
   "execution_count": 2,
   "metadata": {},
   "outputs": [
    {
     "name": "stdout",
     "output_type": "stream",
     "text": [
      "Address:  0x661a8612b6d3b62eebe3ece57535401c9008c2aaaa64c2e92b957b2451b6a8f\n"
     ]
    }
   ],
   "source": [
    "from starknet_py.hash.address import compute_address\n",
    "from starknet_py.net.account.account import Account\n",
    "from starknet_py.net.full_node_client import FullNodeClient\n",
    "from starknet_py.net.signer.stark_curve_signer import KeyPair\n",
    "from starknet_py.net.models.chains import StarknetChainId\n",
    "from ast import literal_eval  \n",
    "\n",
    "\n",
    "# You can also generate a key pair\n",
    "key_pair_generated = KeyPair.generate()\n",
    "\n",
    "\n",
    "# Prefund the address (using the token bridge or by sending fee tokens to the computed address)\n",
    "# Make sure the tx has been accepted on L2 before proceeding\n",
    "\n",
    "# Define the client to be used to interact with Starknet\n",
    "client = FullNodeClient(node_url=\"https://starknet-sepolia.infura.io/v3/1bc8c51edac6463eaebc92a80761f076\")\n",
    "class_hash: int = literal_eval(\"0x05400e90f7e0ae78bd02c77cd75527280470e2fe19c54970dd79dc37a9d3645c\")\n",
    "salt: int = 456\n",
    "\n",
    "account = Account(\n",
    "    client=client,\n",
    "    address=compute_address(\n",
    "        salt=salt,\n",
    "        class_hash= class_hash,  # class_hash of the Account declared on the Starknet\n",
    "        constructor_calldata=[key_pair_generated.public_key],\n",
    "        deployer_address=0,\n",
    "    ),\n",
    "    key_pair=key_pair_generated,\n",
    "    chain=StarknetChainId.SEPOLIA,\n",
    ")\n",
    "\n",
    "print(\"Address: \", hex(account.address))"
   ]
  },
  {
   "cell_type": "markdown",
   "metadata": {},
   "source": [
    "Deploy account"
   ]
  },
  {
   "cell_type": "code",
   "execution_count": 10,
   "metadata": {},
   "outputs": [
    {
     "ename": "ValidationError",
     "evalue": "{'l1_data_gas_price': ['Missing data for required field.'], 'l1_da_mode': ['Missing data for required field.']}",
     "output_type": "error",
     "traceback": [
      "\u001b[0;31m---------------------------------------------------------------------------\u001b[0m",
      "\u001b[0;31mValidationError\u001b[0m                           Traceback (most recent call last)",
      "Cell \u001b[0;32mIn[10], line 1\u001b[0m\n\u001b[0;32m----> 1\u001b[0m \u001b[38;5;28mprint\u001b[39m(\u001b[38;5;28;01mawait\u001b[39;00m client\u001b[38;5;241m.\u001b[39mget_block_with_txs(block_number\u001b[38;5;241m=\u001b[39m\u001b[38;5;241m294444\u001b[39m))\n\u001b[1;32m      2\u001b[0m \u001b[38;5;66;03m# Use `Account.deploy_account_v1` or `Account.deploy_account_v3` static methods to deploy an account\u001b[39;00m\n\u001b[1;32m      3\u001b[0m \u001b[38;5;66;03m# account_deployment_result = await Account.deploy_account_v1(\u001b[39;00m\n\u001b[1;32m      4\u001b[0m \u001b[38;5;66;03m#     address=account.address,\u001b[39;00m\n\u001b[0;32m   (...)\u001b[0m\n\u001b[1;32m     12\u001b[0m \n\u001b[1;32m     13\u001b[0m \u001b[38;5;66;03m# account_deployment_result.__dict__\u001b[39;00m\n",
      "File \u001b[0;32m~/.pyenv/versions/3.11.6/lib/python3.11/site-packages/starknet_py/net/full_node_client.py:128\u001b[0m, in \u001b[0;36mFullNodeClient.get_block_with_txs\u001b[0;34m(self, block_hash, block_number)\u001b[0m\n\u001b[1;32m    123\u001b[0m \u001b[38;5;28;01masync\u001b[39;00m \u001b[38;5;28;01mdef\u001b[39;00m \u001b[38;5;21mget_block_with_txs\u001b[39m(\n\u001b[1;32m    124\u001b[0m     \u001b[38;5;28mself\u001b[39m,\n\u001b[1;32m    125\u001b[0m     block_hash: Optional[Union[Hash, Tag]] \u001b[38;5;241m=\u001b[39m \u001b[38;5;28;01mNone\u001b[39;00m,\n\u001b[1;32m    126\u001b[0m     block_number: Optional[Union[\u001b[38;5;28mint\u001b[39m, Tag]] \u001b[38;5;241m=\u001b[39m \u001b[38;5;28;01mNone\u001b[39;00m,\n\u001b[1;32m    127\u001b[0m ) \u001b[38;5;241m-\u001b[39m\u001b[38;5;241m>\u001b[39m Union[StarknetBlock, PendingStarknetBlock]:\n\u001b[0;32m--> 128\u001b[0m     \u001b[38;5;28;01mreturn\u001b[39;00m \u001b[38;5;28;01mawait\u001b[39;00m \u001b[38;5;28mself\u001b[39m\u001b[38;5;241m.\u001b[39mget_block(block_hash\u001b[38;5;241m=\u001b[39mblock_hash, block_number\u001b[38;5;241m=\u001b[39mblock_number)\n",
      "File \u001b[0;32m~/.pyenv/versions/3.11.6/lib/python3.11/site-packages/starknet_py/net/full_node_client.py:121\u001b[0m, in \u001b[0;36mFullNodeClient.get_block\u001b[0;34m(self, block_hash, block_number)\u001b[0m\n\u001b[1;32m    119\u001b[0m \u001b[38;5;28;01mif\u001b[39;00m block_identifier \u001b[38;5;241m==\u001b[39m {\u001b[38;5;124m\"\u001b[39m\u001b[38;5;124mblock_id\u001b[39m\u001b[38;5;124m\"\u001b[39m: \u001b[38;5;124m\"\u001b[39m\u001b[38;5;124mpending\u001b[39m\u001b[38;5;124m\"\u001b[39m}:\n\u001b[1;32m    120\u001b[0m     \u001b[38;5;28;01mreturn\u001b[39;00m cast(PendingStarknetBlock, PendingStarknetBlockSchema()\u001b[38;5;241m.\u001b[39mload(res))\n\u001b[0;32m--> 121\u001b[0m \u001b[38;5;28;01mreturn\u001b[39;00m cast(StarknetBlock, \u001b[43mStarknetBlockSchema\u001b[49m\u001b[43m(\u001b[49m\u001b[43m)\u001b[49m\u001b[38;5;241;43m.\u001b[39;49m\u001b[43mload\u001b[49m\u001b[43m(\u001b[49m\u001b[43mres\u001b[49m\u001b[43m)\u001b[49m)\n",
      "File \u001b[0;32m~/.pyenv/versions/3.11.6/lib/python3.11/site-packages/marshmallow/schema.py:722\u001b[0m, in \u001b[0;36mSchema.load\u001b[0;34m(self, data, many, partial, unknown)\u001b[0m\n\u001b[1;32m    691\u001b[0m \u001b[38;5;28;01mdef\u001b[39;00m \u001b[38;5;21mload\u001b[39m(\n\u001b[1;32m    692\u001b[0m     \u001b[38;5;28mself\u001b[39m,\n\u001b[1;32m    693\u001b[0m     data: (\n\u001b[0;32m   (...)\u001b[0m\n\u001b[1;32m    700\u001b[0m     unknown: \u001b[38;5;28mstr\u001b[39m \u001b[38;5;241m|\u001b[39m \u001b[38;5;28;01mNone\u001b[39;00m \u001b[38;5;241m=\u001b[39m \u001b[38;5;28;01mNone\u001b[39;00m,\n\u001b[1;32m    701\u001b[0m ):\n\u001b[1;32m    702\u001b[0m \u001b[38;5;250m    \u001b[39m\u001b[38;5;124;03m\"\"\"Deserialize a data structure to an object defined by this Schema's fields.\u001b[39;00m\n\u001b[1;32m    703\u001b[0m \n\u001b[1;32m    704\u001b[0m \u001b[38;5;124;03m    :param data: The data to deserialize.\u001b[39;00m\n\u001b[0;32m   (...)\u001b[0m\n\u001b[1;32m    720\u001b[0m \u001b[38;5;124;03m        if invalid data are passed.\u001b[39;00m\n\u001b[1;32m    721\u001b[0m \u001b[38;5;124;03m    \"\"\"\u001b[39;00m\n\u001b[0;32m--> 722\u001b[0m     \u001b[38;5;28;01mreturn\u001b[39;00m \u001b[38;5;28;43mself\u001b[39;49m\u001b[38;5;241;43m.\u001b[39;49m\u001b[43m_do_load\u001b[49m\u001b[43m(\u001b[49m\n\u001b[1;32m    723\u001b[0m \u001b[43m        \u001b[49m\u001b[43mdata\u001b[49m\u001b[43m,\u001b[49m\u001b[43m \u001b[49m\u001b[43mmany\u001b[49m\u001b[38;5;241;43m=\u001b[39;49m\u001b[43mmany\u001b[49m\u001b[43m,\u001b[49m\u001b[43m \u001b[49m\u001b[43mpartial\u001b[49m\u001b[38;5;241;43m=\u001b[39;49m\u001b[43mpartial\u001b[49m\u001b[43m,\u001b[49m\u001b[43m \u001b[49m\u001b[43munknown\u001b[49m\u001b[38;5;241;43m=\u001b[39;49m\u001b[43munknown\u001b[49m\u001b[43m,\u001b[49m\u001b[43m \u001b[49m\u001b[43mpostprocess\u001b[49m\u001b[38;5;241;43m=\u001b[39;49m\u001b[38;5;28;43;01mTrue\u001b[39;49;00m\n\u001b[1;32m    724\u001b[0m \u001b[43m    \u001b[49m\u001b[43m)\u001b[49m\n",
      "File \u001b[0;32m~/.pyenv/versions/3.11.6/lib/python3.11/site-packages/marshmallow/schema.py:909\u001b[0m, in \u001b[0;36mSchema._do_load\u001b[0;34m(self, data, many, partial, unknown, postprocess)\u001b[0m\n\u001b[1;32m    907\u001b[0m     exc \u001b[38;5;241m=\u001b[39m ValidationError(errors, data\u001b[38;5;241m=\u001b[39mdata, valid_data\u001b[38;5;241m=\u001b[39mresult)\n\u001b[1;32m    908\u001b[0m     \u001b[38;5;28mself\u001b[39m\u001b[38;5;241m.\u001b[39mhandle_error(exc, data, many\u001b[38;5;241m=\u001b[39mmany, partial\u001b[38;5;241m=\u001b[39mpartial)\n\u001b[0;32m--> 909\u001b[0m     \u001b[38;5;28;01mraise\u001b[39;00m exc\n\u001b[1;32m    911\u001b[0m \u001b[38;5;28;01mreturn\u001b[39;00m result\n",
      "\u001b[0;31mValidationError\u001b[0m: {'l1_data_gas_price': ['Missing data for required field.'], 'l1_da_mode': ['Missing data for required field.']}"
     ]
    }
   ],
   "source": [
    "\n",
    "print(await client.get_block_with_txs(block_number=294444))\n",
    "# Use `Account.deploy_account_v1` or `Account.deploy_account_v3` static methods to deploy an account\n",
    "# account_deployment_result = await Account.deploy_account_v1(\n",
    "#     address=account.address,\n",
    "#     class_hash=class_hash,\n",
    "#     salt=salt,\n",
    "#     key_pair=key_pair_generated,\n",
    "#     client=client,\n",
    "#     constructor_calldata=[key_pair_generated.public_key],\n",
    "#     max_fee=int(1)\n",
    "# )\n",
    "\n",
    "# account_deployment_result.__dict__\n"
   ]
  },
  {
   "cell_type": "markdown",
   "metadata": {},
   "source": [
    "Wait for account acceptance"
   ]
  },
  {
   "cell_type": "code",
   "execution_count": 93,
   "metadata": {},
   "outputs": [
    {
     "ename": "ValidationError",
     "evalue": "{'execution_resources': {'data_availability': ['Missing data for required field.']}}",
     "output_type": "error",
     "traceback": [
      "\u001b[0;31m---------------------------------------------------------------------------\u001b[0m",
      "\u001b[0;31mValidationError\u001b[0m                           Traceback (most recent call last)",
      "Cell \u001b[0;32mIn[93], line 2\u001b[0m\n\u001b[1;32m      1\u001b[0m \u001b[38;5;66;03m# Wait for deployment transaction to be accepted\u001b[39;00m\n\u001b[0;32m----> 2\u001b[0m \u001b[38;5;28;01mawait\u001b[39;00m account_deployment_result\u001b[38;5;241m.\u001b[39mwait_for_acceptance()\n\u001b[1;32m      4\u001b[0m \u001b[38;5;66;03m# From now on, account can be used as usual\u001b[39;00m\n\u001b[1;32m      5\u001b[0m account_result \u001b[38;5;241m=\u001b[39m account_deployment_result\u001b[38;5;241m.\u001b[39maccount\n",
      "File \u001b[0;32m~/.pyenv/versions/3.11.6/lib/python3.11/site-packages/starknet_py/contract.py:121\u001b[0m, in \u001b[0;36mSentTransaction.wait_for_acceptance\u001b[0;34m(self, check_interval, retries)\u001b[0m\n\u001b[1;32m    111\u001b[0m \u001b[38;5;28;01masync\u001b[39;00m \u001b[38;5;28;01mdef\u001b[39;00m \u001b[38;5;21mwait_for_acceptance\u001b[39m(\n\u001b[1;32m    112\u001b[0m     \u001b[38;5;28mself\u001b[39m: TypeSentTransaction,\n\u001b[1;32m    113\u001b[0m     check_interval: \u001b[38;5;28mfloat\u001b[39m \u001b[38;5;241m=\u001b[39m \u001b[38;5;241m2\u001b[39m,\n\u001b[1;32m    114\u001b[0m     retries: \u001b[38;5;28mint\u001b[39m \u001b[38;5;241m=\u001b[39m \u001b[38;5;241m500\u001b[39m,\n\u001b[1;32m    115\u001b[0m ) \u001b[38;5;241m-\u001b[39m\u001b[38;5;241m>\u001b[39m TypeSentTransaction:\n\u001b[1;32m    116\u001b[0m \u001b[38;5;250m    \u001b[39m\u001b[38;5;124;03m\"\"\"\u001b[39;00m\n\u001b[1;32m    117\u001b[0m \u001b[38;5;124;03m    Waits for transaction to be accepted on chain till ``ACCEPTED`` status.\u001b[39;00m\n\u001b[1;32m    118\u001b[0m \u001b[38;5;124;03m    Returns a new SentTransaction instance, **does not mutate original instance**.\u001b[39;00m\n\u001b[1;32m    119\u001b[0m \u001b[38;5;124;03m    \"\"\"\u001b[39;00m\n\u001b[0;32m--> 121\u001b[0m     tx_receipt \u001b[38;5;241m=\u001b[39m \u001b[38;5;28;01mawait\u001b[39;00m \u001b[38;5;28mself\u001b[39m\u001b[38;5;241m.\u001b[39m_client\u001b[38;5;241m.\u001b[39mwait_for_tx(\n\u001b[1;32m    122\u001b[0m         \u001b[38;5;28mself\u001b[39m\u001b[38;5;241m.\u001b[39mhash,\n\u001b[1;32m    123\u001b[0m         check_interval\u001b[38;5;241m=\u001b[39mcheck_interval,\n\u001b[1;32m    124\u001b[0m         retries\u001b[38;5;241m=\u001b[39mretries,\n\u001b[1;32m    125\u001b[0m     )\n\u001b[1;32m    126\u001b[0m     \u001b[38;5;28;01mreturn\u001b[39;00m dataclasses\u001b[38;5;241m.\u001b[39mreplace(\n\u001b[1;32m    127\u001b[0m         \u001b[38;5;28mself\u001b[39m,\n\u001b[1;32m    128\u001b[0m         status\u001b[38;5;241m=\u001b[39mtx_receipt\u001b[38;5;241m.\u001b[39mfinality_status,\n\u001b[1;32m    129\u001b[0m         block_number\u001b[38;5;241m=\u001b[39mtx_receipt\u001b[38;5;241m.\u001b[39mblock_number,\n\u001b[1;32m    130\u001b[0m     )\n",
      "File \u001b[0;32m~/.pyenv/versions/3.11.6/lib/python3.11/site-packages/starknet_py/net/client.py:170\u001b[0m, in \u001b[0;36mClient.wait_for_tx\u001b[0;34m(self, tx_hash, check_interval, retries)\u001b[0m\n\u001b[1;32m    168\u001b[0m     transaction_received \u001b[38;5;241m=\u001b[39m \u001b[38;5;28;01mTrue\u001b[39;00m\n\u001b[1;32m    169\u001b[0m \u001b[38;5;28;01melse\u001b[39;00m:\n\u001b[0;32m--> 170\u001b[0m     tx_receipt \u001b[38;5;241m=\u001b[39m \u001b[38;5;28;01mawait\u001b[39;00m \u001b[38;5;28mself\u001b[39m\u001b[38;5;241m.\u001b[39mget_transaction_receipt(tx_hash\u001b[38;5;241m=\u001b[39mtx_hash)\n\u001b[1;32m    172\u001b[0m     \u001b[38;5;28;01mif\u001b[39;00m (\n\u001b[1;32m    173\u001b[0m         tx_receipt\u001b[38;5;241m.\u001b[39mexecution_status\n\u001b[1;32m    174\u001b[0m         \u001b[38;5;241m==\u001b[39m TransactionExecutionStatus\u001b[38;5;241m.\u001b[39mREVERTED\n\u001b[1;32m    175\u001b[0m     ):\n\u001b[1;32m    176\u001b[0m         \u001b[38;5;28;01mraise\u001b[39;00m TransactionRevertedError(message\u001b[38;5;241m=\u001b[39mtx_receipt\u001b[38;5;241m.\u001b[39mrevert_reason)\n",
      "File \u001b[0;32m~/.pyenv/versions/3.11.6/lib/python3.11/site-packages/starknet_py/net/full_node_client.py:360\u001b[0m, in \u001b[0;36mFullNodeClient.get_transaction_receipt\u001b[0;34m(self, tx_hash)\u001b[0m\n\u001b[1;32m    355\u001b[0m \u001b[38;5;28;01masync\u001b[39;00m \u001b[38;5;28;01mdef\u001b[39;00m \u001b[38;5;21mget_transaction_receipt\u001b[39m(\u001b[38;5;28mself\u001b[39m, tx_hash: Hash) \u001b[38;5;241m-\u001b[39m\u001b[38;5;241m>\u001b[39m TransactionReceipt:\n\u001b[1;32m    356\u001b[0m     res \u001b[38;5;241m=\u001b[39m \u001b[38;5;28;01mawait\u001b[39;00m \u001b[38;5;28mself\u001b[39m\u001b[38;5;241m.\u001b[39m_client\u001b[38;5;241m.\u001b[39mcall(\n\u001b[1;32m    357\u001b[0m         method_name\u001b[38;5;241m=\u001b[39m\u001b[38;5;124m\"\u001b[39m\u001b[38;5;124mgetTransactionReceipt\u001b[39m\u001b[38;5;124m\"\u001b[39m,\n\u001b[1;32m    358\u001b[0m         params\u001b[38;5;241m=\u001b[39m{\u001b[38;5;124m\"\u001b[39m\u001b[38;5;124mtransaction_hash\u001b[39m\u001b[38;5;124m\"\u001b[39m: _to_rpc_felt(tx_hash)},\n\u001b[1;32m    359\u001b[0m     )\n\u001b[0;32m--> 360\u001b[0m     \u001b[38;5;28;01mreturn\u001b[39;00m cast(TransactionReceipt, \u001b[43mTransactionReceiptSchema\u001b[49m\u001b[43m(\u001b[49m\u001b[43m)\u001b[49m\u001b[38;5;241;43m.\u001b[39;49m\u001b[43mload\u001b[49m\u001b[43m(\u001b[49m\u001b[43mres\u001b[49m\u001b[43m)\u001b[49m)\n",
      "File \u001b[0;32m~/.pyenv/versions/3.11.6/lib/python3.11/site-packages/marshmallow/schema.py:722\u001b[0m, in \u001b[0;36mSchema.load\u001b[0;34m(self, data, many, partial, unknown)\u001b[0m\n\u001b[1;32m    691\u001b[0m \u001b[38;5;28;01mdef\u001b[39;00m \u001b[38;5;21mload\u001b[39m(\n\u001b[1;32m    692\u001b[0m     \u001b[38;5;28mself\u001b[39m,\n\u001b[1;32m    693\u001b[0m     data: (\n\u001b[0;32m   (...)\u001b[0m\n\u001b[1;32m    700\u001b[0m     unknown: \u001b[38;5;28mstr\u001b[39m \u001b[38;5;241m|\u001b[39m \u001b[38;5;28;01mNone\u001b[39;00m \u001b[38;5;241m=\u001b[39m \u001b[38;5;28;01mNone\u001b[39;00m,\n\u001b[1;32m    701\u001b[0m ):\n\u001b[1;32m    702\u001b[0m \u001b[38;5;250m    \u001b[39m\u001b[38;5;124;03m\"\"\"Deserialize a data structure to an object defined by this Schema's fields.\u001b[39;00m\n\u001b[1;32m    703\u001b[0m \n\u001b[1;32m    704\u001b[0m \u001b[38;5;124;03m    :param data: The data to deserialize.\u001b[39;00m\n\u001b[0;32m   (...)\u001b[0m\n\u001b[1;32m    720\u001b[0m \u001b[38;5;124;03m        if invalid data are passed.\u001b[39;00m\n\u001b[1;32m    721\u001b[0m \u001b[38;5;124;03m    \"\"\"\u001b[39;00m\n\u001b[0;32m--> 722\u001b[0m     \u001b[38;5;28;01mreturn\u001b[39;00m \u001b[38;5;28;43mself\u001b[39;49m\u001b[38;5;241;43m.\u001b[39;49m\u001b[43m_do_load\u001b[49m\u001b[43m(\u001b[49m\n\u001b[1;32m    723\u001b[0m \u001b[43m        \u001b[49m\u001b[43mdata\u001b[49m\u001b[43m,\u001b[49m\u001b[43m \u001b[49m\u001b[43mmany\u001b[49m\u001b[38;5;241;43m=\u001b[39;49m\u001b[43mmany\u001b[49m\u001b[43m,\u001b[49m\u001b[43m \u001b[49m\u001b[43mpartial\u001b[49m\u001b[38;5;241;43m=\u001b[39;49m\u001b[43mpartial\u001b[49m\u001b[43m,\u001b[49m\u001b[43m \u001b[49m\u001b[43munknown\u001b[49m\u001b[38;5;241;43m=\u001b[39;49m\u001b[43munknown\u001b[49m\u001b[43m,\u001b[49m\u001b[43m \u001b[49m\u001b[43mpostprocess\u001b[49m\u001b[38;5;241;43m=\u001b[39;49m\u001b[38;5;28;43;01mTrue\u001b[39;49;00m\n\u001b[1;32m    724\u001b[0m \u001b[43m    \u001b[49m\u001b[43m)\u001b[49m\n",
      "File \u001b[0;32m~/.pyenv/versions/3.11.6/lib/python3.11/site-packages/marshmallow/schema.py:909\u001b[0m, in \u001b[0;36mSchema._do_load\u001b[0;34m(self, data, many, partial, unknown, postprocess)\u001b[0m\n\u001b[1;32m    907\u001b[0m     exc \u001b[38;5;241m=\u001b[39m ValidationError(errors, data\u001b[38;5;241m=\u001b[39mdata, valid_data\u001b[38;5;241m=\u001b[39mresult)\n\u001b[1;32m    908\u001b[0m     \u001b[38;5;28mself\u001b[39m\u001b[38;5;241m.\u001b[39mhandle_error(exc, data, many\u001b[38;5;241m=\u001b[39mmany, partial\u001b[38;5;241m=\u001b[39mpartial)\n\u001b[0;32m--> 909\u001b[0m     \u001b[38;5;28;01mraise\u001b[39;00m exc\n\u001b[1;32m    911\u001b[0m \u001b[38;5;28;01mreturn\u001b[39;00m result\n",
      "\u001b[0;31mValidationError\u001b[0m: {'execution_resources': {'data_availability': ['Missing data for required field.']}}"
     ]
    }
   ],
   "source": [
    "# Wait for deployment transaction to be accepted\n",
    "await account_deployment_result.wait_for_acceptance()\n",
    "\n",
    "# From now on, account can be used as usual\n",
    "account_result = account_deployment_result.account\n",
    "\n",
    "account_result"
   ]
  },
  {
   "cell_type": "markdown",
   "metadata": {},
   "source": [
    "Sample interaction"
   ]
  },
  {
   "cell_type": "code",
   "execution_count": 11,
   "metadata": {},
   "outputs": [
    {
     "ename": "ValidationError",
     "evalue": "{'l1_data_gas_price': ['Missing data for required field.'], 'l1_da_mode': ['Missing data for required field.']}",
     "output_type": "error",
     "traceback": [
      "\u001b[0;31m---------------------------------------------------------------------------\u001b[0m",
      "\u001b[0;31mValidationError\u001b[0m                           Traceback (most recent call last)",
      "Cell \u001b[0;32mIn[11], line 4\u001b[0m\n\u001b[1;32m      1\u001b[0m \u001b[38;5;28;01mfrom\u001b[39;00m \u001b[38;5;21;01mstarknet_py\u001b[39;00m\u001b[38;5;21;01m.\u001b[39;00m\u001b[38;5;21;01mnet\u001b[39;00m\u001b[38;5;21;01m.\u001b[39;00m\u001b[38;5;21;01mfull_node_client\u001b[39;00m \u001b[38;5;28;01mimport\u001b[39;00m FullNodeClient\n\u001b[0;32m----> 4\u001b[0m call_result \u001b[38;5;241m=\u001b[39m \u001b[38;5;28;01mawait\u001b[39;00m client\u001b[38;5;241m.\u001b[39mget_block()\n\u001b[1;32m      5\u001b[0m call_result\n",
      "File \u001b[0;32m~/.pyenv/versions/3.11.6/lib/python3.11/site-packages/starknet_py/net/full_node_client.py:120\u001b[0m, in \u001b[0;36mFullNodeClient.get_block\u001b[0;34m(self, block_hash, block_number)\u001b[0m\n\u001b[1;32m    115\u001b[0m res \u001b[38;5;241m=\u001b[39m \u001b[38;5;28;01mawait\u001b[39;00m \u001b[38;5;28mself\u001b[39m\u001b[38;5;241m.\u001b[39m_client\u001b[38;5;241m.\u001b[39mcall(\n\u001b[1;32m    116\u001b[0m     method_name\u001b[38;5;241m=\u001b[39m\u001b[38;5;124m\"\u001b[39m\u001b[38;5;124mgetBlockWithTxs\u001b[39m\u001b[38;5;124m\"\u001b[39m,\n\u001b[1;32m    117\u001b[0m     params\u001b[38;5;241m=\u001b[39mblock_identifier,\n\u001b[1;32m    118\u001b[0m )\n\u001b[1;32m    119\u001b[0m \u001b[38;5;28;01mif\u001b[39;00m block_identifier \u001b[38;5;241m==\u001b[39m {\u001b[38;5;124m\"\u001b[39m\u001b[38;5;124mblock_id\u001b[39m\u001b[38;5;124m\"\u001b[39m: \u001b[38;5;124m\"\u001b[39m\u001b[38;5;124mpending\u001b[39m\u001b[38;5;124m\"\u001b[39m}:\n\u001b[0;32m--> 120\u001b[0m     \u001b[38;5;28;01mreturn\u001b[39;00m cast(PendingStarknetBlock, \u001b[43mPendingStarknetBlockSchema\u001b[49m\u001b[43m(\u001b[49m\u001b[43m)\u001b[49m\u001b[38;5;241;43m.\u001b[39;49m\u001b[43mload\u001b[49m\u001b[43m(\u001b[49m\u001b[43mres\u001b[49m\u001b[43m)\u001b[49m)\n\u001b[1;32m    121\u001b[0m \u001b[38;5;28;01mreturn\u001b[39;00m cast(StarknetBlock, StarknetBlockSchema()\u001b[38;5;241m.\u001b[39mload(res))\n",
      "File \u001b[0;32m~/.pyenv/versions/3.11.6/lib/python3.11/site-packages/marshmallow/schema.py:722\u001b[0m, in \u001b[0;36mSchema.load\u001b[0;34m(self, data, many, partial, unknown)\u001b[0m\n\u001b[1;32m    691\u001b[0m \u001b[38;5;28;01mdef\u001b[39;00m \u001b[38;5;21mload\u001b[39m(\n\u001b[1;32m    692\u001b[0m     \u001b[38;5;28mself\u001b[39m,\n\u001b[1;32m    693\u001b[0m     data: (\n\u001b[0;32m   (...)\u001b[0m\n\u001b[1;32m    700\u001b[0m     unknown: \u001b[38;5;28mstr\u001b[39m \u001b[38;5;241m|\u001b[39m \u001b[38;5;28;01mNone\u001b[39;00m \u001b[38;5;241m=\u001b[39m \u001b[38;5;28;01mNone\u001b[39;00m,\n\u001b[1;32m    701\u001b[0m ):\n\u001b[1;32m    702\u001b[0m \u001b[38;5;250m    \u001b[39m\u001b[38;5;124;03m\"\"\"Deserialize a data structure to an object defined by this Schema's fields.\u001b[39;00m\n\u001b[1;32m    703\u001b[0m \n\u001b[1;32m    704\u001b[0m \u001b[38;5;124;03m    :param data: The data to deserialize.\u001b[39;00m\n\u001b[0;32m   (...)\u001b[0m\n\u001b[1;32m    720\u001b[0m \u001b[38;5;124;03m        if invalid data are passed.\u001b[39;00m\n\u001b[1;32m    721\u001b[0m \u001b[38;5;124;03m    \"\"\"\u001b[39;00m\n\u001b[0;32m--> 722\u001b[0m     \u001b[38;5;28;01mreturn\u001b[39;00m \u001b[38;5;28;43mself\u001b[39;49m\u001b[38;5;241;43m.\u001b[39;49m\u001b[43m_do_load\u001b[49m\u001b[43m(\u001b[49m\n\u001b[1;32m    723\u001b[0m \u001b[43m        \u001b[49m\u001b[43mdata\u001b[49m\u001b[43m,\u001b[49m\u001b[43m \u001b[49m\u001b[43mmany\u001b[49m\u001b[38;5;241;43m=\u001b[39;49m\u001b[43mmany\u001b[49m\u001b[43m,\u001b[49m\u001b[43m \u001b[49m\u001b[43mpartial\u001b[49m\u001b[38;5;241;43m=\u001b[39;49m\u001b[43mpartial\u001b[49m\u001b[43m,\u001b[49m\u001b[43m \u001b[49m\u001b[43munknown\u001b[49m\u001b[38;5;241;43m=\u001b[39;49m\u001b[43munknown\u001b[49m\u001b[43m,\u001b[49m\u001b[43m \u001b[49m\u001b[43mpostprocess\u001b[49m\u001b[38;5;241;43m=\u001b[39;49m\u001b[38;5;28;43;01mTrue\u001b[39;49;00m\n\u001b[1;32m    724\u001b[0m \u001b[43m    \u001b[49m\u001b[43m)\u001b[49m\n",
      "File \u001b[0;32m~/.pyenv/versions/3.11.6/lib/python3.11/site-packages/marshmallow/schema.py:909\u001b[0m, in \u001b[0;36mSchema._do_load\u001b[0;34m(self, data, many, partial, unknown, postprocess)\u001b[0m\n\u001b[1;32m    907\u001b[0m     exc \u001b[38;5;241m=\u001b[39m ValidationError(errors, data\u001b[38;5;241m=\u001b[39mdata, valid_data\u001b[38;5;241m=\u001b[39mresult)\n\u001b[1;32m    908\u001b[0m     \u001b[38;5;28mself\u001b[39m\u001b[38;5;241m.\u001b[39mhandle_error(exc, data, many\u001b[38;5;241m=\u001b[39mmany, partial\u001b[38;5;241m=\u001b[39mpartial)\n\u001b[0;32m--> 909\u001b[0m     \u001b[38;5;28;01mraise\u001b[39;00m exc\n\u001b[1;32m    911\u001b[0m \u001b[38;5;28;01mreturn\u001b[39;00m result\n",
      "\u001b[0;31mValidationError\u001b[0m: {'l1_data_gas_price': ['Missing data for required field.'], 'l1_da_mode': ['Missing data for required field.']}"
     ]
    }
   ],
   "source": [
    "from starknet_py.net.full_node_client import FullNodeClient\n",
    "\n",
    "\n",
    "call_result = await client.get_block()\n",
    "call_result"
   ]
  },
  {
   "cell_type": "markdown",
   "metadata": {},
   "source": [
    "Deploy contract"
   ]
  },
  {
   "cell_type": "code",
   "execution_count": null,
   "metadata": {},
   "outputs": [],
   "source": [
    "from starknet_py.contract import Contract\n",
    "from starknet_py.net.client_models import ResourceBounds\n",
    "\n",
    "l1_resource_bounds = ResourceBounds(\n",
    "    max_amount=int(1e5), max_price_per_unit=int(1e13)\n",
    ")\n",
    "# Declare and deploy an example contract which implements a simple k-v store.\n",
    "# Contract.declare_v3 takes string containing a compiled contract (sierra) and\n",
    "# a class hash (casm_class_hash) or string containing a compiled contract (casm)\n",
    "declare_result = await Contract.declare_v3(\n",
    "    account,\n",
    "    compiled_contract=compiled_contract,\n",
    "    compiled_class_hash=class_hash,\n",
    "    l1_resource_bounds=l1_resource_bounds,\n",
    ")\n",
    "\n",
    "await declare_result.wait_for_acceptance()\n",
    "deploy_result = await declare_result.deploy_v3(\n",
    "    l1_resource_bounds=l1_resource_bounds,\n",
    ")\n",
    "# Wait until deployment transaction is accepted\n",
    "await deploy_result.wait_for_acceptance()\n",
    "\n",
    "# Get deployed contract\n",
    "map_contract = deploy_result.deployed_contract\n",
    "k, v = 13, 4324\n",
    "# Adds a transaction to mutate the state of k-v store. The call goes through account proxy, because we've used\n",
    "# Account to create the contract object\n",
    "await (\n",
    "    await map_contract.functions[\"put\"].invoke_v3(\n",
    "        k,\n",
    "        v,\n",
    "        l1_resource_bounds=ResourceBounds(\n",
    "            max_amount=int(1e5), max_price_per_unit=int(1e13)\n",
    "        ),\n",
    "    )\n",
    ").wait_for_acceptance()\n",
    "\n",
    "# Retrieves the value, which is equal to 4324 in this case\n",
    "(resp,) = await map_contract.functions[\"get\"].call(k)\n",
    "\n",
    "# There is a possibility of invoking the multicall\n",
    "\n",
    "# Creates a list of prepared function calls\n",
    "calls = [\n",
    "    map_contract.functions[\"put\"].prepare_invoke_v3(key=10, value=20),\n",
    "    map_contract.functions[\"put\"].prepare_invoke_v3(key=30, value=40),\n",
    "]\n",
    "\n",
    "# Executes only one transaction with prepared calls\n",
    "transaction_response = await account.execute_v3(\n",
    "    calls=calls,\n",
    "    l1_resource_bounds=l1_resource_bounds,\n",
    ")\n",
    "await account.client.wait_for_tx(transaction_response.transaction_hash)"
   ]
  }
 ],
 "metadata": {
  "kernelspec": {
   "display_name": "Python 3",
   "language": "python",
   "name": "python3"
  },
  "language_info": {
   "codemirror_mode": {
    "name": "ipython",
    "version": 3
   },
   "file_extension": ".py",
   "mimetype": "text/x-python",
   "name": "python",
   "nbconvert_exporter": "python",
   "pygments_lexer": "ipython3",
   "version": "3.11.6"
  }
 },
 "nbformat": 4,
 "nbformat_minor": 2
}
